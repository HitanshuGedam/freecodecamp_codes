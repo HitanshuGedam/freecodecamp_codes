{
 "cells": [
  {
   "cell_type": "code",
   "execution_count": 1,
   "id": "2c5ed17d-0967-4231-9919-1f7090de70e3",
   "metadata": {},
   "outputs": [],
   "source": [
    "import qiskit\n",
    "import math\n",
    "from qiskit import QuantumCircuit, Aer, execute\n",
    "from qiskit.quantum_info import Statevector\n",
    "from qiskit.visualization import plot_histogram"
   ]
  },
  {
   "cell_type": "code",
   "execution_count": 2,
   "id": "22daa05c-aec7-4bde-ae2e-dde338d0342f",
   "metadata": {},
   "outputs": [
    {
     "name": "stdin",
     "output_type": "stream",
     "text": [
      "Enter maximum number:  5\n"
     ]
    },
    {
     "name": "stdout",
     "output_type": "stream",
     "text": [
      "Maximum number:  5\n",
      "Its binary representation:  101\n",
      "Length of the binary:  3\n"
     ]
    }
   ],
   "source": [
    "maximum = int(input(\"Enter maximum number: \"))\n",
    "maximum_bin = bin(maximum)[2:]\n",
    "length = len(str(maximum_bin))\n",
    "print(\"Maximum number: \",maximum)\n",
    "print(\"Its binary representation: \", maximum_bin) \n",
    "print(\"Length of the binary: \", length)"
   ]
  },
  {
   "cell_type": "code",
   "execution_count": 3,
   "id": "f6582e72-f53e-4e77-a3c7-59ad7e0f379a",
   "metadata": {},
   "outputs": [
    {
     "name": "stdout",
     "output_type": "stream",
     "text": [
      "Possible outcomes:  [0, 1, 2, 3, 4, 5]\n"
     ]
    }
   ],
   "source": [
    "list_nums = [i for i in range(maximum + 1)]\n",
    "print(\"Possible outcomes: \", list_nums)"
   ]
  },
  {
   "cell_type": "code",
   "execution_count": 4,
   "id": "d3bba3aa-c1be-4f73-a38c-d3637eb4b7b8",
   "metadata": {},
   "outputs": [
    {
     "name": "stdout",
     "output_type": "stream",
     "text": [
      "Bninary values of possible outcomes:  ['000', '001', '010', '011', '100', '101']\n"
     ]
    }
   ],
   "source": [
    "list_binaries = [ bin(num)[2:].zfill(length) for num in range(int(maximum + 1))]\n",
    "print(\"Bninary values of possible outcomes: \",list_binaries)"
   ]
  },
  {
   "cell_type": "code",
   "execution_count": 5,
   "id": "62969f5c-ab56-4819-bffe-04aa82279cd2",
   "metadata": {},
   "outputs": [
    {
     "name": "stdout",
     "output_type": "stream",
     "text": [
      "The number of wires are:  3\n"
     ]
    }
   ],
   "source": [
    "wires = math.ceil(math.log(maximum, 2))\n",
    "print(\"The number of wires are: \", wires)"
   ]
  },
  {
   "cell_type": "code",
   "execution_count": 6,
   "id": "3b368815-6475-41f1-bf59-2d20d5f305fc",
   "metadata": {},
   "outputs": [
    {
     "name": "stdout",
     "output_type": "stream",
     "text": [
      "        ┌───┐ ░ ┌─┐      \n",
      "   q_0: ┤ H ├─░─┤M├──────\n",
      "        ├───┤ ░ └╥┘┌─┐   \n",
      "   q_1: ┤ H ├─░──╫─┤M├───\n",
      "        ├───┤ ░  ║ └╥┘┌─┐\n",
      "   q_2: ┤ H ├─░──╫──╫─┤M├\n",
      "        └───┘ ░  ║  ║ └╥┘\n",
      "meas: 3/═════════╩══╩══╩═\n",
      "                 0  1  2 \n"
     ]
    }
   ],
   "source": [
    "qc = QuantumCircuit(wires)\n",
    "qc.h([i for i in range(wires)])\n",
    "qc.measure_all()\n",
    "print(qc.draw())"
   ]
  },
  {
   "cell_type": "code",
   "execution_count": 7,
   "id": "ae935364-d05c-4389-9582-4dec31c8c6d6",
   "metadata": {},
   "outputs": [
    {
     "name": "stdout",
     "output_type": "stream",
     "text": [
      "{'110': 644, '100': 648, '111': 652, '011': 640, '101': 614, '000': 630, '010': 588, '001': 704}\n"
     ]
    }
   ],
   "source": [
    "simulator = Aer.get_backend('qasm_simulator')\n",
    "job = execute(qc, simulator, shots=maximum*1024)\n",
    "result = job.result()\n",
    "counts = result.get_counts(qc)\n",
    "print(counts)"
   ]
  },
  {
   "cell_type": "code",
   "execution_count": 12,
   "id": "57e48162-d7e4-48b9-a395-d38e61ec25d6",
   "metadata": {},
   "outputs": [
    {
     "data": {
      "image/png": "[encoded data removed]",
      "text/plain": [
       "<Figure size 700x500 with 1 Axes>"
      ]
     },
     "execution_count": 12,
     "metadata": {},
     "output_type": "execute_result"
    }
   ],
   "source": [
    "plot_histogram(counts)"
   ]
  },
  {
   "cell_type": "code",
   "execution_count": 13,
   "id": "d2137fd5-c66f-4244-bb2e-cd96d83c768b",
   "metadata": {},
   "outputs": [
    {
     "name": "stdout",
     "output_type": "stream",
     "text": [
      "1\n"
     ]
    }
   ],
   "source": [
    "random_number = int(list(counts.keys())[list(counts.values()).index(max(counts.values()))], 2)\n",
    "random_number = random_number % maximum\n",
    "print(random_number)"
   ]
  },
  {
   "cell_type": "code",
   "execution_count": null,
   "id": "34354d50-8d3a-4041-880d-598f5bfe3422",
   "metadata": {},
   "outputs": [],
   "source": []
  }
 ],
 "metadata": {
  "kernelspec": {
   "display_name": "Python 3 (ipykernel)",
   "language": "python",
   "name": "python3"
  },
  "language_info": {
   "codemirror_mode": {
    "name": "ipython",
    "version": 3
   },
   "file_extension": ".py",
   "mimetype": "text/x-python",
   "name": "python",
   "nbconvert_exporter": "python",
   "pygments_lexer": "ipython3",
   "version": "3.11.7"
  }
 },
 "nbformat": 4,
 "nbformat_minor": 5
}
