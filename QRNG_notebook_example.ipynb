{
 "cells": [
  {
   "cell_type": "code",
   "execution_count": 1,
   "id": "2c5ed17d-0967-4231-9919-1f7090de70e3",
   "metadata": {},
   "outputs": [],
   "source": [
    "import qiskit\n",
    "import math\n",
    "from qiskit import QuantumCircuit, Aer, execute\n",
    "from qiskit.quantum_info import Statevector\n",
    "from qiskit.visualization import plot_histogram"
   ]
  },
  {
   "cell_type": "code",
   "execution_count": 2,
   "id": "22daa05c-aec7-4bde-ae2e-dde338d0342f",
   "metadata": {},
   "outputs": [
    {
     "name": "stdin",
     "output_type": "stream",
     "text": [
      "Enter maximum number:  5\n"
     ]
    },
    {
     "name": "stdout",
     "output_type": "stream",
     "text": [
      "Maximum number:  5\n",
      "Its binary representation:  101\n",
      "Length of the binary:  3\n"
     ]
    }
   ],
   "source": [
    "maximum = int(input(\"Enter maximum number: \"))\n",
    "maximum_bin = bin(maximum)[2:]\n",
    "length = len(str(maximum_bin))\n",
    "print(\"Maximum number: \",maximum)\n",
    "print(\"Its binary representation: \", maximum_bin) \n",
    "print(\"Length of the binary: \", length)"
   ]
  },
  {
   "cell_type": "code",
   "execution_count": 3,
   "id": "f6582e72-f53e-4e77-a3c7-59ad7e0f379a",
   "metadata": {},
   "outputs": [
    {
     "name": "stdout",
     "output_type": "stream",
     "text": [
      "Possible outcomes:  [0, 1, 2, 3, 4, 5]\n"
     ]
    }
   ],
   "source": [
    "list_nums = [i for i in range(maximum + 1)]\n",
    "print(\"Possible outcomes: \", list_nums)"
   ]
  },
  {
   "cell_type": "code",
   "execution_count": 4,
   "id": "d3bba3aa-c1be-4f73-a38c-d3637eb4b7b8",
   "metadata": {},
   "outputs": [
    {
     "name": "stdout",
     "output_type": "stream",
     "text": [
      "Bninary values of possible outcomes:  ['000', '001', '010', '011', '100', '101']\n"
     ]
    }
   ],
   "source": [
    "list_binaries = [ bin(num)[2:].zfill(length) for num in range(int(maximum + 1))]\n",
    "print(\"Bninary values of possible outcomes: \",list_binaries)"
   ]
  },
  {
   "cell_type": "code",
   "execution_count": 5,
   "id": "62969f5c-ab56-4819-bffe-04aa82279cd2",
   "metadata": {},
   "outputs": [
    {
     "name": "stdout",
     "output_type": "stream",
     "text": [
      "The number of wires are:  3\n"
     ]
    }
   ],
   "source": [
    "wires = math.ceil(math.log(maximum, 2))\n",
    "print(\"The number of wires are: \", wires)"
   ]
  },
  {
   "cell_type": "code",
   "execution_count": 6,
   "id": "3b368815-6475-41f1-bf59-2d20d5f305fc",
   "metadata": {},
   "outputs": [
    {
     "name": "stdout",
     "output_type": "stream",
     "text": [
      "        ┌───┐ ░ ┌─┐      \n",
      "   q_0: ┤ H ├─░─┤M├──────\n",
      "        ├───┤ ░ └╥┘┌─┐   \n",
      "   q_1: ┤ H ├─░──╫─┤M├───\n",
      "        ├───┤ ░  ║ └╥┘┌─┐\n",
      "   q_2: ┤ H ├─░──╫──╫─┤M├\n",
      "        └───┘ ░  ║  ║ └╥┘\n",
      "meas: 3/═════════╩══╩══╩═\n",
      "                 0  1  2 \n"
     ]
    }
   ],
   "source": [
    "qc = QuantumCircuit(wires)\n",
    "qc.h([i for i in range(wires)])\n",
    "qc.measure_all()\n",
    "print(qc.draw())"
   ]
  },
  {
   "cell_type": "code",
   "execution_count": 7,
   "id": "ae935364-d05c-4389-9582-4dec31c8c6d6",
   "metadata": {},
   "outputs": [
    {
     "name": "stdout",
     "output_type": "stream",
     "text": [
      "{'110': 644, '100': 648, '111': 652, '011': 640, '101': 614, '000': 630, '010': 588, '001': 704}\n"
     ]
    }
   ],
   "source": [
    "simulator = Aer.get_backend('qasm_simulator')\n",
    "job = execute(qc, simulator, shots=maximum*1024)\n",
    "result = job.result()\n",
    "counts = result.get_counts(qc)\n",
    "print(counts)"
   ]
  },
  {
   "cell_type": "code",
   "execution_count": 8,
   "id": "d2137fd5-c66f-4244-bb2e-cd96d83c768b",
   "metadata": {},
   "outputs": [
    {
     "name": "stdout",
     "output_type": "stream",
     "text": [
      "1\n"
     ]
    }
   ],
   "source": [
    "random_number = int(list(counts.keys())[list(counts.values()).index(max(counts.values()))], 2)\n",
    "random_number = random_number % maximum\n",
    "print(random_number)"
   ]
  },
  {
   "cell_type": "code",
   "execution_count": 10,
   "id": "dc7309cf-3da4-48b7-aa1f-edcd7b672344",
   "metadata": {},
   "outputs": [
    {
     "ename": "ModuleNotFoundError",
     "evalue": "No module named 'qiskit.primitives.containers'",
     "output_type": "error",
     "traceback": [
      "\u001b[0;31m---------------------------------------------------------------------------\u001b[0m",
      "\u001b[0;31mModuleNotFoundError\u001b[0m                       Traceback (most recent call last)",
      "Cell \u001b[0;32mIn[10], line 1\u001b[0m\n\u001b[0;32m----> 1\u001b[0m \u001b[38;5;28;01mfrom\u001b[39;00m \u001b[38;5;21;01mqiskit_ibm_runtime\u001b[39;00m \u001b[38;5;28;01mimport\u001b[39;00m QiskitRuntimeService\n\u001b[1;32m      3\u001b[0m \u001b[38;5;66;03m# If you did not previously save your credentials, use the following line instead:\u001b[39;00m\n\u001b[1;32m      4\u001b[0m \u001b[38;5;66;03m# service = QiskitRuntimeService(channel=\"ibm_quantum\", token=\"<MY_IBM_QUANTUM_TOKEN>\")\u001b[39;00m\n\u001b[1;32m      5\u001b[0m service \u001b[38;5;241m=\u001b[39m QiskitRuntimeService()\n",
      "File \u001b[0;32m~/anaconda3/lib/python3.11/site-packages/qiskit_ibm_runtime/__init__.py:207\u001b[0m\n\u001b[1;32m    204\u001b[0m \u001b[38;5;28;01mimport\u001b[39;00m \u001b[38;5;21;01mlogging\u001b[39;00m\n\u001b[1;32m    205\u001b[0m \u001b[38;5;28;01mimport\u001b[39;00m \u001b[38;5;21;01mwarnings\u001b[39;00m\n\u001b[0;32m--> 207\u001b[0m \u001b[38;5;28;01mfrom\u001b[39;00m \u001b[38;5;21;01m.\u001b[39;00m\u001b[38;5;21;01mqiskit_runtime_service\u001b[39;00m \u001b[38;5;28;01mimport\u001b[39;00m QiskitRuntimeService\n\u001b[1;32m    208\u001b[0m \u001b[38;5;28;01mfrom\u001b[39;00m \u001b[38;5;21;01m.\u001b[39;00m\u001b[38;5;21;01mibm_backend\u001b[39;00m \u001b[38;5;28;01mimport\u001b[39;00m IBMBackend\n\u001b[1;32m    209\u001b[0m \u001b[38;5;28;01mfrom\u001b[39;00m \u001b[38;5;21;01m.\u001b[39;00m\u001b[38;5;21;01mruntime_job\u001b[39;00m \u001b[38;5;28;01mimport\u001b[39;00m RuntimeJob\n",
      "File \u001b[0;32m~/anaconda3/lib/python3.11/site-packages/qiskit_ibm_runtime/qiskit_runtime_service.py:32\u001b[0m\n\u001b[1;32m     26\u001b[0m \u001b[38;5;28;01mfrom\u001b[39;00m \u001b[38;5;21;01mqiskit\u001b[39;00m\u001b[38;5;21;01m.\u001b[39;00m\u001b[38;5;21;01mproviders\u001b[39;00m\u001b[38;5;21;01m.\u001b[39;00m\u001b[38;5;21;01mproviderutils\u001b[39;00m \u001b[38;5;28;01mimport\u001b[39;00m filter_backends\n\u001b[1;32m     27\u001b[0m \u001b[38;5;28;01mfrom\u001b[39;00m \u001b[38;5;21;01mqiskit\u001b[39;00m\u001b[38;5;21;01m.\u001b[39;00m\u001b[38;5;21;01mproviders\u001b[39;00m\u001b[38;5;21;01m.\u001b[39;00m\u001b[38;5;21;01mmodels\u001b[39;00m \u001b[38;5;28;01mimport\u001b[39;00m (\n\u001b[1;32m     28\u001b[0m     PulseBackendConfiguration,\n\u001b[1;32m     29\u001b[0m     QasmBackendConfiguration,\n\u001b[1;32m     30\u001b[0m )\n\u001b[0;32m---> 32\u001b[0m \u001b[38;5;28;01mfrom\u001b[39;00m \u001b[38;5;21;01mqiskit_ibm_runtime\u001b[39;00m \u001b[38;5;28;01mimport\u001b[39;00m ibm_backend\n\u001b[1;32m     33\u001b[0m \u001b[38;5;28;01mfrom\u001b[39;00m \u001b[38;5;21;01m.\u001b[39;00m\u001b[38;5;21;01mproxies\u001b[39;00m \u001b[38;5;28;01mimport\u001b[39;00m ProxyConfiguration\n\u001b[1;32m     34\u001b[0m \u001b[38;5;28;01mfrom\u001b[39;00m \u001b[38;5;21;01m.\u001b[39;00m\u001b[38;5;21;01mutils\u001b[39;00m\u001b[38;5;21;01m.\u001b[39;00m\u001b[38;5;21;01mhgp\u001b[39;00m \u001b[38;5;28;01mimport\u001b[39;00m to_instance_format, from_instance_format\n",
      "File \u001b[0;32m~/anaconda3/lib/python3.11/site-packages/qiskit_ibm_runtime/ibm_backend.py:50\u001b[0m\n\u001b[1;32m     48\u001b[0m \u001b[38;5;28;01mfrom\u001b[39;00m \u001b[38;5;21;01m.\u001b[39;00m\u001b[38;5;21;01mutils\u001b[39;00m\u001b[38;5;21;01m.\u001b[39;00m\u001b[38;5;21;01mutils\u001b[39;00m \u001b[38;5;28;01mimport\u001b[39;00m validate_job_tags\n\u001b[1;32m     49\u001b[0m \u001b[38;5;28;01mfrom\u001b[39;00m \u001b[38;5;21;01m.\u001b[39;00m \u001b[38;5;28;01mimport\u001b[39;00m qiskit_runtime_service  \u001b[38;5;66;03m# pylint: disable=unused-import,cyclic-import\u001b[39;00m\n\u001b[0;32m---> 50\u001b[0m \u001b[38;5;28;01mfrom\u001b[39;00m \u001b[38;5;21;01m.\u001b[39;00m\u001b[38;5;21;01mruntime_job\u001b[39;00m \u001b[38;5;28;01mimport\u001b[39;00m RuntimeJob\n\u001b[1;32m     52\u001b[0m \u001b[38;5;28;01mfrom\u001b[39;00m \u001b[38;5;21;01m.\u001b[39;00m\u001b[38;5;21;01mapi\u001b[39;00m\u001b[38;5;21;01m.\u001b[39;00m\u001b[38;5;21;01mclients\u001b[39;00m \u001b[38;5;28;01mimport\u001b[39;00m RuntimeClient\n\u001b[1;32m     53\u001b[0m \u001b[38;5;28;01mfrom\u001b[39;00m \u001b[38;5;21;01m.\u001b[39;00m\u001b[38;5;21;01mexceptions\u001b[39;00m \u001b[38;5;28;01mimport\u001b[39;00m IBMBackendApiProtocolError, IBMBackendValueError, IBMBackendApiError\n",
      "File \u001b[0;32m~/anaconda3/lib/python3.11/site-packages/qiskit_ibm_runtime/runtime_job.py:27\u001b[0m\n\u001b[1;32m     24\u001b[0m \u001b[38;5;66;03m# pylint: disable=unused-import,cyclic-import\u001b[39;00m\n\u001b[1;32m     26\u001b[0m \u001b[38;5;28;01mfrom\u001b[39;00m \u001b[38;5;21;01mqiskit_ibm_runtime\u001b[39;00m \u001b[38;5;28;01mimport\u001b[39;00m qiskit_runtime_service\n\u001b[0;32m---> 27\u001b[0m \u001b[38;5;28;01mfrom\u001b[39;00m \u001b[38;5;21;01m.\u001b[39;00m\u001b[38;5;21;01mconstants\u001b[39;00m \u001b[38;5;28;01mimport\u001b[39;00m API_TO_JOB_STATUS\n\u001b[1;32m     28\u001b[0m \u001b[38;5;28;01mfrom\u001b[39;00m \u001b[38;5;21;01m.\u001b[39;00m\u001b[38;5;21;01mexceptions\u001b[39;00m \u001b[38;5;28;01mimport\u001b[39;00m (\n\u001b[1;32m     29\u001b[0m     RuntimeJobFailureError,\n\u001b[1;32m     30\u001b[0m     RuntimeInvalidStateError,\n\u001b[0;32m   (...)\u001b[0m\n\u001b[1;32m     33\u001b[0m     RuntimeJobTimeoutError,\n\u001b[1;32m     34\u001b[0m )\n\u001b[1;32m     35\u001b[0m \u001b[38;5;28;01mfrom\u001b[39;00m \u001b[38;5;21;01m.\u001b[39;00m\u001b[38;5;21;01mutils\u001b[39;00m\u001b[38;5;21;01m.\u001b[39;00m\u001b[38;5;21;01mresult_decoder\u001b[39;00m \u001b[38;5;28;01mimport\u001b[39;00m ResultDecoder\n",
      "File \u001b[0;32m~/anaconda3/lib/python3.11/site-packages/qiskit_ibm_runtime/constants.py:17\u001b[0m\n\u001b[1;32m     13\u001b[0m \u001b[38;5;124;03m\"\"\"Constant values.\"\"\"\u001b[39;00m\n\u001b[1;32m     15\u001b[0m \u001b[38;5;28;01mfrom\u001b[39;00m \u001b[38;5;21;01mqiskit\u001b[39;00m\u001b[38;5;21;01m.\u001b[39;00m\u001b[38;5;21;01mproviders\u001b[39;00m\u001b[38;5;21;01m.\u001b[39;00m\u001b[38;5;21;01mjobstatus\u001b[39;00m \u001b[38;5;28;01mimport\u001b[39;00m JobStatus\n\u001b[0;32m---> 17\u001b[0m \u001b[38;5;28;01mfrom\u001b[39;00m \u001b[38;5;21;01m.\u001b[39;00m\u001b[38;5;21;01mutils\u001b[39;00m\u001b[38;5;21;01m.\u001b[39;00m\u001b[38;5;21;01mresult_decoder\u001b[39;00m \u001b[38;5;28;01mimport\u001b[39;00m ResultDecoder\n\u001b[1;32m     18\u001b[0m \u001b[38;5;28;01mfrom\u001b[39;00m \u001b[38;5;21;01m.\u001b[39;00m\u001b[38;5;21;01mutils\u001b[39;00m\u001b[38;5;21;01m.\u001b[39;00m\u001b[38;5;21;01mestimator_result_decoder\u001b[39;00m \u001b[38;5;28;01mimport\u001b[39;00m EstimatorResultDecoder\n\u001b[1;32m     19\u001b[0m \u001b[38;5;28;01mfrom\u001b[39;00m \u001b[38;5;21;01m.\u001b[39;00m\u001b[38;5;21;01mutils\u001b[39;00m\u001b[38;5;21;01m.\u001b[39;00m\u001b[38;5;21;01msampler_result_decoder\u001b[39;00m \u001b[38;5;28;01mimport\u001b[39;00m SamplerResultDecoder\n",
      "File \u001b[0;32m~/anaconda3/lib/python3.11/site-packages/qiskit_ibm_runtime/utils/__init__.py:52\u001b[0m\n\u001b[1;32m     38\u001b[0m \u001b[38;5;28;01mfrom\u001b[39;00m \u001b[38;5;21;01m.\u001b[39;00m\u001b[38;5;21;01mconverters\u001b[39;00m \u001b[38;5;28;01mimport\u001b[39;00m (\n\u001b[1;32m     39\u001b[0m     utc_to_local,\n\u001b[1;32m     40\u001b[0m     local_to_utc,\n\u001b[1;32m     41\u001b[0m     seconds_to_duration,\n\u001b[1;32m     42\u001b[0m     duration_difference,\n\u001b[1;32m     43\u001b[0m )\n\u001b[1;32m     44\u001b[0m \u001b[38;5;28;01mfrom\u001b[39;00m \u001b[38;5;21;01m.\u001b[39;00m\u001b[38;5;21;01mutils\u001b[39;00m \u001b[38;5;28;01mimport\u001b[39;00m (\n\u001b[1;32m     45\u001b[0m     to_python_identifier,\n\u001b[1;32m     46\u001b[0m     is_crn,\n\u001b[0;32m   (...)\u001b[0m\n\u001b[1;32m     50\u001b[0m     validate_no_dd_with_dynamic_circuits,\n\u001b[1;32m     51\u001b[0m )\n\u001b[0;32m---> 52\u001b[0m \u001b[38;5;28;01mfrom\u001b[39;00m \u001b[38;5;21;01m.\u001b[39;00m\u001b[38;5;21;01mjson\u001b[39;00m \u001b[38;5;28;01mimport\u001b[39;00m RuntimeEncoder, RuntimeDecoder, to_base64_string\n\u001b[1;32m     53\u001b[0m \u001b[38;5;28;01mfrom\u001b[39;00m \u001b[38;5;21;01m.\u001b[39;00m \u001b[38;5;28;01mimport\u001b[39;00m pubsub\n",
      "File \u001b[0;32m~/anaconda3/lib/python3.11/site-packages/qiskit_ibm_runtime/utils/json.py:65\u001b[0m\n\u001b[1;32m     58\u001b[0m \u001b[38;5;28;01mfrom\u001b[39;00m \u001b[38;5;21;01mqiskit\u001b[39;00m\u001b[38;5;21;01m.\u001b[39;00m\u001b[38;5;21;01mutils\u001b[39;00m \u001b[38;5;28;01mimport\u001b[39;00m optionals\n\u001b[1;32m     59\u001b[0m \u001b[38;5;28;01mfrom\u001b[39;00m \u001b[38;5;21;01mqiskit\u001b[39;00m\u001b[38;5;21;01m.\u001b[39;00m\u001b[38;5;21;01mqpy\u001b[39;00m \u001b[38;5;28;01mimport\u001b[39;00m (\n\u001b[1;32m     60\u001b[0m     _write_parameter_expression,\n\u001b[1;32m     61\u001b[0m     _read_parameter_expression_v3,\n\u001b[1;32m     62\u001b[0m     load,\n\u001b[1;32m     63\u001b[0m     dump,\n\u001b[1;32m     64\u001b[0m )\n\u001b[0;32m---> 65\u001b[0m \u001b[38;5;28;01mfrom\u001b[39;00m \u001b[38;5;21;01mqiskit\u001b[39;00m\u001b[38;5;21;01m.\u001b[39;00m\u001b[38;5;21;01mprimitives\u001b[39;00m\u001b[38;5;21;01m.\u001b[39;00m\u001b[38;5;21;01mcontainers\u001b[39;00m\u001b[38;5;21;01m.\u001b[39;00m\u001b[38;5;21;01mestimator_pub\u001b[39;00m \u001b[38;5;28;01mimport\u001b[39;00m EstimatorPub\n\u001b[1;32m     66\u001b[0m \u001b[38;5;28;01mfrom\u001b[39;00m \u001b[38;5;21;01mqiskit\u001b[39;00m\u001b[38;5;21;01m.\u001b[39;00m\u001b[38;5;21;01mprimitives\u001b[39;00m\u001b[38;5;21;01m.\u001b[39;00m\u001b[38;5;21;01mcontainers\u001b[39;00m\u001b[38;5;21;01m.\u001b[39;00m\u001b[38;5;21;01msampler_pub\u001b[39;00m \u001b[38;5;28;01mimport\u001b[39;00m SamplerPub\n\u001b[1;32m     67\u001b[0m \u001b[38;5;28;01mfrom\u001b[39;00m \u001b[38;5;21;01mqiskit\u001b[39;00m\u001b[38;5;21;01m.\u001b[39;00m\u001b[38;5;21;01mqpy\u001b[39;00m\u001b[38;5;21;01m.\u001b[39;00m\u001b[38;5;21;01mbinary_io\u001b[39;00m\u001b[38;5;21;01m.\u001b[39;00m\u001b[38;5;21;01mvalue\u001b[39;00m \u001b[38;5;28;01mimport\u001b[39;00m _write_parameter, _read_parameter\n",
      "\u001b[0;31mModuleNotFoundError\u001b[0m: No module named 'qiskit.primitives.containers'"
     ]
    }
   ],
   "source": [
    "from qiskit_ibm_runtime import QiskitRuntimeService\n",
    " \n",
    "# If you did not previously save your credentials, use the following line instead:\n",
    "# service = QiskitRuntimeService(channel=\"ibm_quantum\", token=\"<MY_IBM_QUANTUM_TOKEN>\")\n",
    "service = QiskitRuntimeService()\n",
    " \n",
    "backend = service.least_busy(simulator=False, operational=True)\n",
    " \n",
    "# Convert to an ISA circuit and layout-mapped observables.\n",
    "pm = generate_preset_pass_manager(backend=backend, optimization_level=1)\n",
    "isa_circuit = pm.run(qc)\n",
    " \n",
    "isa_circuit.draw('mpl', idle_wires=False)"
   ]
  },
  {
   "cell_type": "code",
   "execution_count": null,
   "id": "979bab52-6420-4bc2-9471-e004aa5511fd",
   "metadata": {},
   "outputs": [],
   "source": []
  }
 ],
 "metadata": {
  "kernelspec": {
   "display_name": "Python 3 (ipykernel)",
   "language": "python",
   "name": "python3"
  },
  "language_info": {
   "codemirror_mode": {
    "name": "ipython",
    "version": 3
   },
   "file_extension": ".py",
   "mimetype": "text/x-python",
   "name": "python",
   "nbconvert_exporter": "python",
   "pygments_lexer": "ipython3",
   "version": "3.11.7"
  }
 },
 "nbformat": 4,
 "nbformat_minor": 5
}
